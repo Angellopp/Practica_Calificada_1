{
 "cells": [
  {
   "cell_type": "markdown",
   "id": "c65c9f4c",
   "metadata": {},
   "source": [
    "# Ejercicios"
   ]
  },
  {
   "cell_type": "markdown",
   "id": "bc68c076",
   "metadata": {},
   "source": [
    "## Ejercicio 1 \n",
    "Dados los siguientes fragmentos de código Ruby, determina el resultado. Si puedes, encuentra un compañero, discute y luego valida tus soluciones escribiendo el código en un intérprete. Debe alternar quién escribe y quién explica el resultado.\n"
   ]
  },
  {
   "cell_type": "code",
   "execution_count": 23,
   "id": "e99ccb6a",
   "metadata": {},
   "outputs": [
    {
     "name": "stdout",
     "output_type": "stream",
     "text": [
      "azerec\n",
      "onatalp\n"
     ]
    },
    {
     "data": {
      "text/plain": [
       "\"cereza onatalp\""
      ]
     },
     "execution_count": 23,
     "metadata": {},
     "output_type": "execute_result"
    }
   ],
   "source": [
    "fruta1 = \"cereza\"\n",
    "fruta2 = \"platano\"\n",
    "puts fruta1.reverse\n",
    "puts fruta2.reverse!\n",
    "fruta1 + \" \" + fruta2"
   ]
  },
  {
   "cell_type": "markdown",
   "id": "59371e4d",
   "metadata": {},
   "source": [
    "En la línea 3 y 4, tenemos el método *reverse* y *reverse!*. El método \"reverse\" ejecuta dicho método para la cadena fruta1 pero no lo modifica; en cambio, el método \"reverse!\", ejecuta dicho método para la cadena fruta2, y actualiza dicho valor."
   ]
  },
  {
   "cell_type": "code",
   "execution_count": 24,
   "id": "70d658b9",
   "metadata": {},
   "outputs": [
    {
     "data": {
      "text/plain": [
       "\"mundo\""
      ]
     },
     "execution_count": 24,
     "metadata": {},
     "output_type": "execute_result"
    }
   ],
   "source": [
    "class Cadena\n",
    "    @@hola = \"hola alli!\"\n",
    "    def hola; \"mundo\"; end\n",
    "end\n",
    "\n",
    "smoothie = Cadena.new\n",
    "smoothie.hola\n"
   ]
  },
  {
   "cell_type": "markdown",
   "id": "6117a4cd",
   "metadata": {},
   "source": [
    "Tenemos la clase Cadena que tiene la variable de clase hola y el método hola. No obstante, si instanciamos Cadena smoothie y realizamos smoothie.hola, el resultado de este será el de llamar al método de dicha clase."
   ]
  },
  {
   "cell_type": "code",
   "execution_count": 25,
   "id": "673d290a",
   "metadata": {},
   "outputs": [
    {
     "data": {
      "text/plain": [
       "\"Yup, that fruit tastes sour!\""
      ]
     },
     "execution_count": 25,
     "metadata": {},
     "output_type": "execute_result"
    }
   ],
   "source": [
    "class Fruit\n",
    "    def method_missing(meth)\n",
    "        if meth.to_s =~ /^tastes_(.+)\\?$/\n",
    "            \"Yup, that fruit tastes #{$1}!\"\n",
    "        else\n",
    "            super\n",
    "        end\n",
    "    end\n",
    "end\n",
    "\n",
    "orange = Fruit.new\n",
    "# orange.bitter?\n",
    "orange.tastes_sour?\n",
    "# orange.tastes_sweet?"
   ]
  },
  {
   "cell_type": "markdown",
   "id": "93c9004b",
   "metadata": {},
   "source": [
    "El método \"method_missing\" recibe una cadena de texto y la compara con una expresión regular que sigue el patrón \"tastes_\" seguido de algún espacio adicional. Si no encuentra esta expresión regular, invocará el método \"super\". Por otro lado, si la expresión regular coincide con la cadena de texto, mostrará un mensaje en pantalla."
   ]
  },
  {
   "cell_type": "markdown",
   "id": "d5cbdeb0",
   "metadata": {},
   "source": [
    "## Ejercicio 2\n",
    "En la siguiente parte, intenta reescribir cada uno de los siguientes métodos en una línea (corta). Una persona debe ser el escritor, mientras la otra explica qué escribir. Intenta alternar roles entre los dos ejercicios.\n",
    "\n",
    "```\n",
    "def foo(arr)\n",
    "  res = 0\n",
    "  arr.each do |n|\n",
    "    res += n\n",
    "  end\n",
    "  res\n",
    "end\n",
    "```\n",
    "\n",
    "```\n",
    "def bar(hsh)\n",
    "  res = {}\n",
    "  hsh.each do |k, v|\n",
    "    if v > 100\n",
    "      res[k] = v\n",
    "    end\n",
    "  end\n",
    "  res\n",
    "end\n",
    "```"
   ]
  },
  {
   "cell_type": "code",
   "execution_count": 14,
   "id": "24c8cfea",
   "metadata": {},
   "outputs": [
    {
     "data": {
      "text/plain": [
       "15"
      ]
     },
     "execution_count": 14,
     "metadata": {},
     "output_type": "execute_result"
    }
   ],
   "source": [
    "# def foo(arr)\n",
    "#     res = 0\n",
    "#     arr.each do |n|\n",
    "#         res += n\n",
    "#     end\n",
    "#     res\n",
    "# end\n",
    "\n",
    "def foo(arr) ; arr.sum ; end\n",
    "numeros = [1, 2, 3, 4, 5]\n",
    "sum = foo(numeros)"
   ]
  },
  {
   "cell_type": "code",
   "execution_count": 18,
   "id": "8563f1ba",
   "metadata": {},
   "outputs": [
    {
     "data": {
      "text/plain": [
       "{\"mil\"=>1000, \"key\"=>256}"
      ]
     },
     "execution_count": 18,
     "metadata": {},
     "output_type": "execute_result"
    }
   ],
   "source": [
    "# def bar(hsh)\n",
    "#     res = {}\n",
    "#     hsh.each do |k, v|\n",
    "#         if v > 100\n",
    "#             res[k] = v\n",
    "#         end\n",
    "#     end\n",
    "#     res\n",
    "# end\n",
    "\n",
    "def bar(hsh) ; hsh.select { |k, v| v > 100 } ; end\n",
    "hash = {\"uno\" => 1, \"cien\" => 100, \"mil\" => 1000, \"key\" => 256}\n",
    "result = bar(hash)"
   ]
  },
  {
   "cell_type": "markdown",
   "id": "f69ac1c6",
   "metadata": {},
   "source": [
    "## Ejercicio 3 \n",
    "En esta parte, crea tus propios iteradores con la declaración yield que devuelvan los siguientes elementos. Nuevamente, alterna roles entre los dos ejercicios.\n",
    "\n",
    "(i) Escriba una función fib(n) que produzca los primeros n números de Fibonacci en secuencia y devuelva nil\n",
    "\n",
    "```\n",
    ">> fib(4) { |x| puts x }\n",
    "1\n",
    "1\n",
    "2\n",
    "3\n",
    "nil\n",
    "```"
   ]
  },
  {
   "cell_type": "code",
   "execution_count": 22,
   "id": "06349e10",
   "metadata": {},
   "outputs": [
    {
     "name": "stdout",
     "output_type": "stream",
     "text": [
      "1\n",
      "1\n",
      "2\n",
      "3\n",
      "\n"
     ]
    }
   ],
   "source": [
    "def fib(n)\n",
    "  a, b = 0, 1\n",
    "  for i in 1..n  \n",
    "    yield b\n",
    "    a, b = b, b+a\n",
    "  end\n",
    "  yield nil\n",
    "end\n",
    "fib(4)  {|x| puts x}"
   ]
  },
  {
   "cell_type": "markdown",
   "id": "b67699ad",
   "metadata": {},
   "source": [
    "(ii) Escribe la función Array#odds que produce los elementos indexados impares de un arreglo  en secuencia y devuelve nil.\n",
    "\n",
    "```\n",
    ">> [10, 30, 50, 70, 90].odds do |n|\n",
    "..\n",
    "puts n\n",
    ".. end\n",
    "30\n",
    "70\n",
    "nil\n",
    "```"
   ]
  },
  {
   "cell_type": "code",
   "execution_count": null,
   "id": "5851edad",
   "metadata": {},
   "outputs": [],
   "source": [
    "def Array.odds\n",
    "  each_with_index do |element, index|\n",
    "    yield element if index.odd?\n",
    "  end\n",
    "  nil\n",
    "end\n",
    "\n",
    "[10, 30, 50, 70, 90].odds do |n|\n",
    "  puts n\n",
    "end"
   ]
  },
  {
   "cell_type": "markdown",
   "id": "0e29dd2f",
   "metadata": {},
   "source": [
    "## Ejercicio 4 \n",
    "Escribe de 1 a 3 líneas de código Ruby para cada una de las siguientes tareas. No utilices ningún bucle explícito (for, each, while, etc.): utiliza sólo los operadores de colección, la mayoría de los cuales están definidos en el módulo `Enumerable`.\n",
    "\n",
    "(Una pista adicional: la palabra clave es `compact`. Busca la documentación en línea si no estás familiarizado con ella!)\n",
    "\n",
    "Suponiendo que la variable `palabras` es un arreglo en la que cada elemento es una cadena (que puede estar vacía) o nil, escriba una pequeña cantidad de código Ruby que devolverá:\n",
    "\n",
    "- Una copia de `palabras` con elementos `nil` eliminados.\n",
    "- Una copia de `palabras` con elementos de cadena vacíos y `nil` eliminados.\n",
    "\n",
    "- Sólo aquellas `palabras` que tengan exactamente 3 letras.\n",
    "- Sólo aquellas `palabras` que contengan al menos una vocal (a, e, i, o, u)\n",
    "- Una cadena que es la concatenación de `palabras`."
   ]
  },
  {
   "cell_type": "code",
   "execution_count": 2,
   "id": "a0738219",
   "metadata": {},
   "outputs": [
    {
     "name": "stdout",
     "output_type": "stream",
     "text": [
      "Tarea 1: [\"Hola\", \"soy\", \"yo\", \"\", \"XD\"]\n",
      "Tarea 2: [\"Hola\", \"soy\", \"yo\", \"XD\"]\n",
      "Tarea 3: [\"soy\"]\n",
      "Tarea 4: [\"Hola\", \"soy\", \"yo\"]\n",
      "Tarea 5: HolasoyyoXD\n"
     ]
    }
   ],
   "source": [
    "palabras = [\"Hola\", \"soy\", \"yo\", nil, \"\", \"XD\"]\n",
    "palabras1 = palabras.compact\n",
    "palabras2 = palabras1.reject {|cadena| cadena.empty?}\n",
    "palabras3 = palabras1.select {|cadena| cadena.length == 3}\n",
    "palabras4 = palabras1.select {|cadena| cadena =~ /[aeiou]/}\n",
    "palabras5 = palabras1.join(\"\")\n",
    "\n",
    "puts \"Tarea 1: #{palabras1}\"\n",
    "puts \"Tarea 2: #{palabras2}\"\n",
    "puts \"Tarea 3: #{palabras3}\"\n",
    "puts \"Tarea 4: #{palabras4}\"\n",
    "puts \"Tarea 5: #{palabras5}\""
   ]
  }
 ],
 "metadata": {
  "kernelspec": {
   "display_name": "Ruby 3.2.2",
   "language": "ruby",
   "name": "ruby"
  },
  "language_info": {
   "file_extension": ".rb",
   "mimetype": "application/x-ruby",
   "name": "ruby",
   "version": "3.2.2"
  }
 },
 "nbformat": 4,
 "nbformat_minor": 5
}
