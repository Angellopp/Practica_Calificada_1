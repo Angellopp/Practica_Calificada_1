{
 "cells": [
  {
   "cell_type": "markdown",
   "id": "ae094492",
   "metadata": {},
   "source": [
    "## JUnit (para Java):\n",
    "\n",
    "Lenguaje: JUnit está diseñado para pruebas en Java.\n",
    "\n",
    "Sintaxis: Utiliza anotaciones como @Test para marcar métodos de prueba.\n",
    "\n",
    "Estilo: Sigue un estilo más orientado a objetos y basado en clases.\n",
    "\n",
    "Configuración: Requiere configuración adicional a través de archivos XML para algunos aspectos.\n",
    "\n",
    "Framework estándar: Ampliamente adoptado en el mundo Java y es la elección estándar para pruebas en este lenguaje.\n",
    "\n",
    "\n",
    "## RSpec (para Ruby):\n",
    "\n",
    "Lenguaje: RSpec está diseñado para pruebas en Ruby.\n",
    "\n",
    "Sintaxis: Utiliza lenguaje natural y DSL (Domain-Specific Language) para escribir pruebas legibles.\n",
    "\n",
    "Estilo: Sigue un estilo más declarativo y orientado al comportamiento.\n",
    "\n",
    "Configuración: Ofrece una configuración más simple y flexible en el código.\n",
    "\n",
    "Framework popular: Ampliamente utilizado en la comunidad Ruby y es conocido por su legibilidad y expresividad."
   ]
  },
  {
   "cell_type": "code",
   "execution_count": null,
   "id": "0a06f8ab",
   "metadata": {},
   "outputs": [],
   "source": []
  }
 ],
 "metadata": {
  "kernelspec": {
   "display_name": "Ruby 3.2.2",
   "language": "ruby",
   "name": "ruby"
  },
  "language_info": {
   "file_extension": ".rb",
   "mimetype": "application/x-ruby",
   "name": "ruby",
   "version": "3.2.2"
  }
 },
 "nbformat": 4,
 "nbformat_minor": 5
}
